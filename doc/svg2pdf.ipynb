{
 "cells": [
  {
   "cell_type": "code",
   "execution_count": 1,
   "id": "76b6886c",
   "metadata": {},
   "outputs": [
    {
     "name": "stdout",
     "output_type": "stream",
     "text": [
      "svg_path:./svg/fig.domain_disproof.svg\n",
      "pdf_path:./pdf/fig.domain_disproof.pdf\n",
      "svg_path:./svg/CodeAgents.svg\n",
      "pdf_path:./pdf/CodeAgents.pdf\n",
      "svg_path:./svg/fig.disproof.svg\n",
      "pdf_path:./pdf/fig.disproof.pdf\n",
      "svg_path:./svg/fig.domain_analysis.svg\n",
      "pdf_path:./pdf/fig.domain_analysis.pdf\n",
      "svg_path:./svg/fig.email.svg\n",
      "pdf_path:./pdf/fig.email.pdf\n",
      "svg_path:./svg/fig.codeagents.svg\n",
      "pdf_path:./pdf/fig.codeagents.pdf\n",
      "svg_path:./svg/fig.gama.svg\n",
      "pdf_path:./pdf/fig.gama.pdf\n"
     ]
    }
   ],
   "source": [
    "import cairosvg\n",
    "import os\n",
    "# 你的SVG文件路径\n",
    "svg_file = './svg/'\n",
    "# 输出PDF文件路径\n",
    "pdf_file = './pdf/'\n",
    "\n",
    "for root, dirs, files in os.walk(svg_file, topdown=False):\n",
    "    # print(root)     # 当前目录路径\n",
    "    # print(dirs)     # 当前目录下所有子目录\n",
    "    # print(files)        # 当前路径下所有非目录子文件\n",
    "    for file in files:\n",
    "        if file.endswith('.svg'):\n",
    "            svg_path = os.path.join(root, file)\n",
    "            pdf_path = os.path.join(pdf_file, file.replace('.svg', '.pdf'))\n",
    "            print(f\"svg_path:{svg_path}\")\n",
    "            print(f\"pdf_path:{pdf_path}\")\n",
    "            # 转换SVG到PDF\n",
    "            cairosvg.svg2pdf(url=svg_path, write_to=pdf_path)\n",
    "            # 如果需要将PDF文件保存到指定目录，可以使用以下代码\n",
    "            # pdf_file = os.path.join(pdf_file, file.replace('.svg', '.pdf'))"
   ]
  }
 ],
 "metadata": {
  "kernelspec": {
   "display_name": "gama",
   "language": "python",
   "name": "python3"
  },
  "language_info": {
   "codemirror_mode": {
    "name": "ipython",
    "version": 3
   },
   "file_extension": ".py",
   "mimetype": "text/x-python",
   "name": "python",
   "nbconvert_exporter": "python",
   "pygments_lexer": "ipython3",
   "version": "3.8.20"
  }
 },
 "nbformat": 4,
 "nbformat_minor": 5
}
